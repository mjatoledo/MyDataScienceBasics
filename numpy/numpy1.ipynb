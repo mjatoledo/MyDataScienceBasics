{
 "cells": [
  {
   "cell_type": "markdown",
   "metadata": {},
   "source": [
    "# Numpy"
   ]
  },
  {
   "cell_type": "markdown",
   "metadata": {},
   "source": []
  },
  {
   "cell_type": "code",
   "execution_count": 2,
   "metadata": {},
   "outputs": [],
   "source": [
    "import numpy as np"
   ]
  },
  {
   "cell_type": "markdown",
   "metadata": {},
   "source": []
  },
  {
   "cell_type": "code",
   "execution_count": 3,
   "metadata": {},
   "outputs": [
    {
     "name": "stdout",
     "output_type": "stream",
     "text": [
      "[1 2 3]\n"
     ]
    }
   ],
   "source": [
    "a1=np.array([1,2,3])\n",
    "print(a1)"
   ]
  },
  {
   "cell_type": "markdown",
   "metadata": {},
   "source": []
  },
  {
   "cell_type": "code",
   "execution_count": 6,
   "metadata": {},
   "outputs": [
    {
     "data": {
      "text/plain": [
       "array([[1, 2, 3],\n",
       "       [4, 5, 6]])"
      ]
     },
     "execution_count": 6,
     "metadata": {},
     "output_type": "execute_result"
    }
   ],
   "source": [
    "a2=np.array([[1,2,3],[4,5,6]])\n",
    "a2"
   ]
  },
  {
   "cell_type": "code",
   "execution_count": 7,
   "metadata": {},
   "outputs": [
    {
     "data": {
      "text/plain": [
       "array([4, 5, 6])"
      ]
     },
     "execution_count": 7,
     "metadata": {},
     "output_type": "execute_result"
    }
   ],
   "source": [
    "a2[0]\n",
    "a2[1]"
   ]
  },
  {
   "cell_type": "code",
   "execution_count": 3,
   "metadata": {},
   "outputs": [
    {
     "data": {
      "text/plain": [
       "array([[[  1,   2,   3],\n",
       "        [  4,   5,   6]],\n",
       "\n",
       "       [[ 11,  22,  33],\n",
       "        [ 44,  55,  66]],\n",
       "\n",
       "       [[111, 222, 333],\n",
       "        [444, 555, 666]]])"
      ]
     },
     "execution_count": 3,
     "metadata": {},
     "output_type": "execute_result"
    }
   ],
   "source": [
    "a3=np.array([[[1,2,3],[4,5,6]],[[11,22,33],[44,55,66]],[[111,222,333],[444,555,666]]])\n",
    "a3"
   ]
  },
  {
   "cell_type": "code",
   "execution_count": 11,
   "metadata": {},
   "outputs": [
    {
     "data": {
      "text/plain": [
       "2"
      ]
     },
     "execution_count": 11,
     "metadata": {},
     "output_type": "execute_result"
    }
   ],
   "source": [
    "a1[1]"
   ]
  },
  {
   "cell_type": "code",
   "execution_count": 13,
   "metadata": {},
   "outputs": [
    {
     "data": {
      "text/plain": [
       "6"
      ]
     },
     "execution_count": 13,
     "metadata": {},
     "output_type": "execute_result"
    }
   ],
   "source": [
    "a2[1,2]"
   ]
  },
  {
   "cell_type": "code",
   "execution_count": 16,
   "metadata": {},
   "outputs": [
    {
     "data": {
      "text/plain": [
       "33"
      ]
     },
     "execution_count": 16,
     "metadata": {},
     "output_type": "execute_result"
    }
   ],
   "source": [
    "a3[1,0,2]"
   ]
  },
  {
   "cell_type": "code",
   "execution_count": 19,
   "metadata": {},
   "outputs": [
    {
     "data": {
      "text/plain": [
       "array([4.67867386e-310, 0.00000000e+000, 4.67867447e-310, 4.67867443e-310])"
      ]
     },
     "execution_count": 19,
     "metadata": {},
     "output_type": "execute_result"
    }
   ],
   "source": [
    "av1=np.empty(4)\n",
    "av1"
   ]
  },
  {
   "cell_type": "code",
   "execution_count": 20,
   "metadata": {},
   "outputs": [
    {
     "data": {
      "text/plain": [
       "array([[4.67867392e-310, 0.00000000e+000, 1.01855798e-312],\n",
       "       [9.54898106e-313, 1.12465777e-312, 1.06099790e-312],\n",
       "       [1.23075756e-312, 1.16709769e-312, 1.12465777e-312],\n",
       "       [9.76118064e-313, 1.18831764e-312, 1.90979621e-312]])"
      ]
     },
     "execution_count": 20,
     "metadata": {},
     "output_type": "execute_result"
    }
   ],
   "source": [
    "av2=np.empty([4,3])\n",
    "av2"
   ]
  },
  {
   "cell_type": "code",
   "execution_count": 21,
   "metadata": {},
   "outputs": [
    {
     "data": {
      "text/plain": [
       "array([[0., 0., 0., 0., 0.],\n",
       "       [0., 0., 0., 0., 0.],\n",
       "       [0., 0., 0., 0., 0.]])"
      ]
     },
     "execution_count": 21,
     "metadata": {},
     "output_type": "execute_result"
    }
   ],
   "source": [
    "az1=np.zeros([3,5])\n",
    "az1"
   ]
  },
  {
   "cell_type": "code",
   "execution_count": 22,
   "metadata": {},
   "outputs": [
    {
     "data": {
      "text/plain": [
       "array([[1., 1., 1., 1., 1.],\n",
       "       [1., 1., 1., 1., 1.],\n",
       "       [1., 1., 1., 1., 1.]])"
      ]
     },
     "execution_count": 22,
     "metadata": {},
     "output_type": "execute_result"
    }
   ],
   "source": [
    "ao=np.ones([3,5])\n",
    "ao"
   ]
  },
  {
   "cell_type": "code",
   "execution_count": 23,
   "metadata": {},
   "outputs": [
    {
     "data": {
      "text/plain": [
       "array([[9, 9, 9, 9, 9],\n",
       "       [9, 9, 9, 9, 9],\n",
       "       [9, 9, 9, 9, 9]])"
      ]
     },
     "execution_count": 23,
     "metadata": {},
     "output_type": "execute_result"
    }
   ],
   "source": [
    "af=np.full([3,5],9)\n",
    "af"
   ]
  },
  {
   "cell_type": "code",
   "execution_count": 25,
   "metadata": {},
   "outputs": [
    {
     "data": {
      "text/plain": [
       "array([[1., 0., 0., 0., 0.],\n",
       "       [0., 1., 0., 0., 0.],\n",
       "       [0., 0., 1., 0., 0.],\n",
       "       [0., 0., 0., 1., 0.],\n",
       "       [0., 0., 0., 0., 1.]])"
      ]
     },
     "execution_count": 25,
     "metadata": {},
     "output_type": "execute_result"
    }
   ],
   "source": [
    "ai=np.identity(5)\n",
    "ai"
   ]
  },
  {
   "cell_type": "code",
   "execution_count": 27,
   "metadata": {},
   "outputs": [
    {
     "name": "stdout",
     "output_type": "stream",
     "text": [
      "arange([start,] stop[, step,], dtype=None, *, like=None)\n",
      "\n",
      "Return evenly spaced values within a given interval.\n",
      "\n",
      "``arange`` can be called with a varying number of positional arguments:\n",
      "\n",
      "* ``arange(stop)``: Values are generated within the half-open interval\n",
      "  ``[0, stop)`` (in other words, the interval including `start` but\n",
      "  excluding `stop`).\n",
      "* ``arange(start, stop)``: Values are generated within the half-open\n",
      "  interval ``[start, stop)``.\n",
      "* ``arange(start, stop, step)`` Values are generated within the half-open\n",
      "  interval ``[start, stop)``, with spacing between values given by\n",
      "  ``step``.\n",
      "\n",
      "For integer arguments the function is roughly equivalent to the Python\n",
      "built-in :py:class:`range`, but returns an ndarray rather than a ``range``\n",
      "instance.\n",
      "\n",
      "When using a non-integer step, such as 0.1, it is often better to use\n",
      "`numpy.linspace`.\n",
      "\n",
      "See the Warning sections below for more information.\n",
      "\n",
      "Parameters\n",
      "----------\n",
      "start : integer or real, optional\n",
      "    Start of interval.  The interval includes this value.  The default\n",
      "    start value is 0.\n",
      "stop : integer or real\n",
      "    End of interval.  The interval does not include this value, except\n",
      "    in some cases where `step` is not an integer and floating point\n",
      "    round-off affects the length of `out`.\n",
      "step : integer or real, optional\n",
      "    Spacing between values.  For any output `out`, this is the distance\n",
      "    between two adjacent values, ``out[i+1] - out[i]``.  The default\n",
      "    step size is 1.  If `step` is specified as a position argument,\n",
      "    `start` must also be given.\n",
      "dtype : dtype, optional\n",
      "    The type of the output array.  If `dtype` is not given, infer the data\n",
      "    type from the other input arguments.\n",
      "like : array_like, optional\n",
      "    Reference object to allow the creation of arrays which are not\n",
      "    NumPy arrays. If an array-like passed in as ``like`` supports\n",
      "    the ``__array_function__`` protocol, the result will be defined\n",
      "    by it. In this case, it ensures the creation of an array object\n",
      "    compatible with that passed in via this argument.\n",
      "\n",
      "    .. versionadded:: 1.20.0\n",
      "\n",
      "Returns\n",
      "-------\n",
      "arange : ndarray\n",
      "    Array of evenly spaced values.\n",
      "\n",
      "    For floating point arguments, the length of the result is\n",
      "    ``ceil((stop - start)/step)``.  Because of floating point overflow,\n",
      "    this rule may result in the last element of `out` being greater\n",
      "    than `stop`.\n",
      "\n",
      "Warnings\n",
      "--------\n",
      "The length of the output might not be numerically stable.\n",
      "\n",
      "Another stability issue is due to the internal implementation of\n",
      "`numpy.arange`.\n",
      "The actual step value used to populate the array is\n",
      "``dtype(start + step) - dtype(start)`` and not `step`. Precision loss\n",
      "can occur here, due to casting or due to using floating points when\n",
      "`start` is much larger than `step`. This can lead to unexpected\n",
      "behaviour. For example::\n",
      "\n",
      "  >>> np.arange(0, 5, 0.5, dtype=int)\n",
      "  array([0, 0, 0, 0, 0, 0, 0, 0, 0, 0])\n",
      "  >>> np.arange(-3, 3, 0.5, dtype=int)\n",
      "  array([-3, -2, -1,  0,  1,  2,  3,  4,  5,  6,  7,  8])\n",
      "\n",
      "In such cases, the use of `numpy.linspace` should be preferred.\n",
      "\n",
      "The built-in :py:class:`range` generates :std:doc:`Python built-in integers\n",
      "that have arbitrary size <c-api/long>`, while `numpy.arange` produces\n",
      "`numpy.int32` or `numpy.int64` numbers. This may result in incorrect\n",
      "results for large integer values::\n",
      "\n",
      "  >>> power = 40\n",
      "  >>> modulo = 10000\n",
      "  >>> x1 = [(n ** power) % modulo for n in range(8)]\n",
      "  >>> x2 = [(n ** power) % modulo for n in np.arange(8)]\n",
      "  >>> print(x1)\n",
      "  [0, 1, 7776, 8801, 6176, 625, 6576, 4001]  # correct\n",
      "  >>> print(x2)\n",
      "  [0, 1, 7776, 7185, 0, 5969, 4816, 3361]  # incorrect\n",
      "\n",
      "See Also\n",
      "--------\n",
      "numpy.linspace : Evenly spaced numbers with careful handling of endpoints.\n",
      "numpy.ogrid: Arrays of evenly spaced numbers in N-dimensions.\n",
      "numpy.mgrid: Grid-shaped arrays of evenly spaced numbers in N-dimensions.\n",
      "\n",
      "Examples\n",
      "--------\n",
      ">>> np.arange(3)\n",
      "array([0, 1, 2])\n",
      ">>> np.arange(3.0)\n",
      "array([ 0.,  1.,  2.])\n",
      ">>> np.arange(3,7)\n",
      "array([3, 4, 5, 6])\n",
      ">>> np.arange(3,7,2)\n",
      "array([3, 5])\n"
     ]
    }
   ],
   "source": [
    "\n",
    "np.info(np.arange)"
   ]
  },
  {
   "cell_type": "code",
   "execution_count": 29,
   "metadata": {},
   "outputs": [
    {
     "data": {
      "text/plain": [
       "array([1, 3, 5, 7, 9])"
      ]
     },
     "execution_count": 29,
     "metadata": {},
     "output_type": "execute_result"
    }
   ],
   "source": [
    "ar = np.arange(1,10,2)\n",
    "ar"
   ]
  },
  {
   "cell_type": "code",
   "execution_count": 30,
   "metadata": {},
   "outputs": [
    {
     "name": "stdout",
     "output_type": "stream",
     "text": [
      " linspace(start, stop, num=50, endpoint=True, retstep=False, dtype=None,\n",
      "          axis=0)\n",
      "\n",
      "Return evenly spaced numbers over a specified interval.\n",
      "\n",
      "Returns `num` evenly spaced samples, calculated over the\n",
      "interval [`start`, `stop`].\n",
      "\n",
      "The endpoint of the interval can optionally be excluded.\n",
      "\n",
      ".. versionchanged:: 1.16.0\n",
      "    Non-scalar `start` and `stop` are now supported.\n",
      "\n",
      ".. versionchanged:: 1.20.0\n",
      "    Values are rounded towards ``-inf`` instead of ``0`` when an\n",
      "    integer ``dtype`` is specified. The old behavior can\n",
      "    still be obtained with ``np.linspace(start, stop, num).astype(int)``\n",
      "\n",
      "Parameters\n",
      "----------\n",
      "start : array_like\n",
      "    The starting value of the sequence.\n",
      "stop : array_like\n",
      "    The end value of the sequence, unless `endpoint` is set to False.\n",
      "    In that case, the sequence consists of all but the last of ``num + 1``\n",
      "    evenly spaced samples, so that `stop` is excluded.  Note that the step\n",
      "    size changes when `endpoint` is False.\n",
      "num : int, optional\n",
      "    Number of samples to generate. Default is 50. Must be non-negative.\n",
      "endpoint : bool, optional\n",
      "    If True, `stop` is the last sample. Otherwise, it is not included.\n",
      "    Default is True.\n",
      "retstep : bool, optional\n",
      "    If True, return (`samples`, `step`), where `step` is the spacing\n",
      "    between samples.\n",
      "dtype : dtype, optional\n",
      "    The type of the output array.  If `dtype` is not given, the data type\n",
      "    is inferred from `start` and `stop`. The inferred dtype will never be\n",
      "    an integer; `float` is chosen even if the arguments would produce an\n",
      "    array of integers.\n",
      "\n",
      "    .. versionadded:: 1.9.0\n",
      "\n",
      "axis : int, optional\n",
      "    The axis in the result to store the samples.  Relevant only if start\n",
      "    or stop are array-like.  By default (0), the samples will be along a\n",
      "    new axis inserted at the beginning. Use -1 to get an axis at the end.\n",
      "\n",
      "    .. versionadded:: 1.16.0\n",
      "\n",
      "Returns\n",
      "-------\n",
      "samples : ndarray\n",
      "    There are `num` equally spaced samples in the closed interval\n",
      "    ``[start, stop]`` or the half-open interval ``[start, stop)``\n",
      "    (depending on whether `endpoint` is True or False).\n",
      "step : float, optional\n",
      "    Only returned if `retstep` is True\n",
      "\n",
      "    Size of spacing between samples.\n",
      "\n",
      "\n",
      "See Also\n",
      "--------\n",
      "arange : Similar to `linspace`, but uses a step size (instead of the\n",
      "         number of samples).\n",
      "geomspace : Similar to `linspace`, but with numbers spaced evenly on a log\n",
      "            scale (a geometric progression).\n",
      "logspace : Similar to `geomspace`, but with the end points specified as\n",
      "           logarithms.\n",
      "\n",
      "Examples\n",
      "--------\n",
      ">>> np.linspace(2.0, 3.0, num=5)\n",
      "array([2.  , 2.25, 2.5 , 2.75, 3.  ])\n",
      ">>> np.linspace(2.0, 3.0, num=5, endpoint=False)\n",
      "array([2. ,  2.2,  2.4,  2.6,  2.8])\n",
      ">>> np.linspace(2.0, 3.0, num=5, retstep=True)\n",
      "(array([2.  ,  2.25,  2.5 ,  2.75,  3.  ]), 0.25)\n",
      "\n",
      "Graphical illustration:\n",
      "\n",
      ">>> import matplotlib.pyplot as plt\n",
      ">>> N = 8\n",
      ">>> y = np.zeros(N)\n",
      ">>> x1 = np.linspace(0, 10, N, endpoint=True)\n",
      ">>> x2 = np.linspace(0, 10, N, endpoint=False)\n",
      ">>> plt.plot(x1, y, 'o')\n",
      "[<matplotlib.lines.Line2D object at 0x...>]\n",
      ">>> plt.plot(x2, y + 0.5, 'o')\n",
      "[<matplotlib.lines.Line2D object at 0x...>]\n",
      ">>> plt.ylim([-0.5, 1])\n",
      "(-0.5, 1)\n",
      ">>> plt.show()\n"
     ]
    }
   ],
   "source": [
    "np.info(np.linspace)"
   ]
  },
  {
   "cell_type": "code",
   "execution_count": 32,
   "metadata": {},
   "outputs": [
    {
     "data": {
      "text/plain": [
       "array([  1.        ,   6.21052632,  11.42105263,  16.63157895,\n",
       "        21.84210526,  27.05263158,  32.26315789,  37.47368421,\n",
       "        42.68421053,  47.89473684,  53.10526316,  58.31578947,\n",
       "        63.52631579,  68.73684211,  73.94736842,  79.15789474,\n",
       "        84.36842105,  89.57894737,  94.78947368, 100.        ])"
      ]
     },
     "execution_count": 32,
     "metadata": {},
     "output_type": "execute_result"
    }
   ],
   "source": [
    "al=np.linspace(1,100,20)\n",
    "al"
   ]
  },
  {
   "cell_type": "code",
   "execution_count": 33,
   "metadata": {},
   "outputs": [
    {
     "data": {
      "text/plain": [
       "array([[0.09364822, 0.53979018, 0.00663851],\n",
       "       [0.27653857, 0.12251463, 0.14019969]])"
      ]
     },
     "execution_count": 33,
     "metadata": {},
     "output_type": "execute_result"
    }
   ],
   "source": [
    "aran=np.random.random([2,3])\n",
    "aran"
   ]
  },
  {
   "cell_type": "code",
   "execution_count": 34,
   "metadata": {},
   "outputs": [
    {
     "data": {
      "text/plain": [
       "2"
      ]
     },
     "execution_count": 34,
     "metadata": {},
     "output_type": "execute_result"
    }
   ],
   "source": [
    "aran.ndim"
   ]
  },
  {
   "cell_type": "code",
   "execution_count": 35,
   "metadata": {},
   "outputs": [
    {
     "data": {
      "text/plain": [
       "(2, 3)"
      ]
     },
     "execution_count": 35,
     "metadata": {},
     "output_type": "execute_result"
    }
   ],
   "source": [
    "aran.shape"
   ]
  },
  {
   "cell_type": "code",
   "execution_count": 36,
   "metadata": {},
   "outputs": [
    {
     "data": {
      "text/plain": [
       "6"
      ]
     },
     "execution_count": 36,
     "metadata": {},
     "output_type": "execute_result"
    }
   ],
   "source": [
    "aran.size"
   ]
  },
  {
   "cell_type": "code",
   "execution_count": 37,
   "metadata": {},
   "outputs": [
    {
     "data": {
      "text/plain": [
       "dtype('float64')"
      ]
     },
     "execution_count": 37,
     "metadata": {},
     "output_type": "execute_result"
    }
   ],
   "source": [
    "aran.dtype"
   ]
  },
  {
   "cell_type": "code",
   "execution_count": 38,
   "metadata": {},
   "outputs": [
    {
     "data": {
      "text/plain": [
       "array(['hola', 'mundo'], dtype='<U5')"
      ]
     },
     "execution_count": 38,
     "metadata": {},
     "output_type": "execute_result"
    }
   ],
   "source": [
    "at=np.array(['hola','mundo'])\n",
    "at"
   ]
  },
  {
   "cell_type": "code",
   "execution_count": 39,
   "metadata": {},
   "outputs": [
    {
     "name": "stderr",
     "output_type": "stream",
     "text": [
      "/tmp/ipykernel_11278/3172888049.py:1: VisibleDeprecationWarning: Creating an ndarray from ragged nested sequences (which is a list-or-tuple of lists-or-tuples-or ndarrays with different lengths or shapes) is deprecated. If you meant to do this, you must specify 'dtype=object' when creating the ndarray.\n",
      "  at=np.array([['hola','mundo'],[1,2,3]])\n"
     ]
    }
   ],
   "source": [
    "# at=np.array([['hola','mundo'],[1,2,3]]) no se pueden mezclar diferentes tipos de datos en un array"
   ]
  },
  {
   "cell_type": "code",
   "execution_count": 40,
   "metadata": {},
   "outputs": [
    {
     "data": {
      "text/plain": [
       "dtype('float64')"
      ]
     },
     "execution_count": 40,
     "metadata": {},
     "output_type": "execute_result"
    }
   ],
   "source": [
    "al.dtype"
   ]
  },
  {
   "cell_type": "code",
   "execution_count": 45,
   "metadata": {},
   "outputs": [
    {
     "data": {
      "text/plain": [
       "array([  1,   6,  11,  16,  21,  27,  32,  37,  42,  47,  53,  58,  63,\n",
       "        68,  73,  79,  84,  89,  94, 100], dtype=int32)"
      ]
     },
     "execution_count": 45,
     "metadata": {},
     "output_type": "execute_result"
    }
   ],
   "source": [
    "al.astype('i')"
   ]
  },
  {
   "cell_type": "code",
   "execution_count": 46,
   "metadata": {},
   "outputs": [
    {
     "data": {
      "text/plain": [
       "array([  1.        ,   6.21052632,  11.42105263,  16.63157895,\n",
       "        21.84210526,  27.05263158,  32.26315789,  37.47368421,\n",
       "        42.68421053,  47.89473684,  53.10526316,  58.31578947,\n",
       "        63.52631579,  68.73684211,  73.94736842,  79.15789474,\n",
       "        84.36842105,  89.57894737,  94.78947368, 100.        ])"
      ]
     },
     "execution_count": 46,
     "metadata": {},
     "output_type": "execute_result"
    }
   ],
   "source": [
    "np.sort(al)"
   ]
  },
  {
   "cell_type": "code",
   "execution_count": 47,
   "metadata": {},
   "outputs": [
    {
     "data": {
      "text/plain": [
       "array([[0.09364822, 0.53979018, 0.00663851],\n",
       "       [0.27653857, 0.12251463, 0.14019969]])"
      ]
     },
     "execution_count": 47,
     "metadata": {},
     "output_type": "execute_result"
    }
   ],
   "source": [
    "aran"
   ]
  },
  {
   "cell_type": "code",
   "execution_count": 49,
   "metadata": {},
   "outputs": [
    {
     "data": {
      "text/plain": [
       "array([[0.00663851, 0.09364822, 0.53979018],\n",
       "       [0.12251463, 0.14019969, 0.27653857]])"
      ]
     },
     "execution_count": 49,
     "metadata": {},
     "output_type": "execute_result"
    }
   ],
   "source": [
    "np.sort(aran)"
   ]
  },
  {
   "cell_type": "code",
   "execution_count": 53,
   "metadata": {},
   "outputs": [
    {
     "data": {
      "text/plain": [
       "array([[0.00663851, 0.09364822, 0.53979018],\n",
       "       [0.12251463, 0.14019969, 0.27653857]])"
      ]
     },
     "execution_count": 53,
     "metadata": {},
     "output_type": "execute_result"
    }
   ],
   "source": [
    "np.sort(aran,axis=1)"
   ]
  },
  {
   "cell_type": "code",
   "execution_count": 54,
   "metadata": {},
   "outputs": [
    {
     "data": {
      "text/plain": [
       "array([[0.09364822, 0.12251463, 0.00663851],\n",
       "       [0.27653857, 0.53979018, 0.14019969]])"
      ]
     },
     "execution_count": 54,
     "metadata": {},
     "output_type": "execute_result"
    }
   ],
   "source": [
    "np.sort(aran,axis=0)"
   ]
  },
  {
   "cell_type": "code",
   "execution_count": 56,
   "metadata": {},
   "outputs": [
    {
     "data": {
      "text/plain": [
       "-3"
      ]
     },
     "execution_count": 56,
     "metadata": {},
     "output_type": "execute_result"
    }
   ],
   "source": [
    "arr=np.array([2,4,5,0,6,15,4,1,-3])\n",
    "np.min(arr)"
   ]
  },
  {
   "cell_type": "code",
   "execution_count": 57,
   "metadata": {},
   "outputs": [
    {
     "data": {
      "text/plain": [
       "15"
      ]
     },
     "execution_count": 57,
     "metadata": {},
     "output_type": "execute_result"
    }
   ],
   "source": [
    "np.max(arr)"
   ]
  },
  {
   "cell_type": "code",
   "execution_count": 58,
   "metadata": {},
   "outputs": [
    {
     "data": {
      "text/plain": [
       "3.7777777777777777"
      ]
     },
     "execution_count": 58,
     "metadata": {},
     "output_type": "execute_result"
    }
   ],
   "source": [
    "np.mean(arr)"
   ]
  },
  {
   "cell_type": "code",
   "execution_count": 59,
   "metadata": {},
   "outputs": [
    {
     "data": {
      "text/plain": [
       "4.0"
      ]
     },
     "execution_count": 59,
     "metadata": {},
     "output_type": "execute_result"
    }
   ],
   "source": [
    "np.median(arr)"
   ]
  },
  {
   "cell_type": "code",
   "execution_count": 60,
   "metadata": {},
   "outputs": [
    {
     "data": {
      "text/plain": [
       "array([ 2,  4,  5,  0,  6, 15,  4,  1,  3])"
      ]
     },
     "execution_count": 60,
     "metadata": {},
     "output_type": "execute_result"
    }
   ],
   "source": [
    "np.absolute(arr)"
   ]
  },
  {
   "cell_type": "code",
   "execution_count": 61,
   "metadata": {},
   "outputs": [
    {
     "data": {
      "text/plain": [
       "array([ 2,  6, 11, 11, 17, 32, 36, 37, 34])"
      ]
     },
     "execution_count": 61,
     "metadata": {},
     "output_type": "execute_result"
    }
   ],
   "source": [
    "np.cumsum(arr)"
   ]
  },
  {
   "cell_type": "code",
   "execution_count": 62,
   "metadata": {},
   "outputs": [
    {
     "data": {
      "text/plain": [
       "array([-3,  0,  1,  2,  4,  5,  6, 15])"
      ]
     },
     "execution_count": 62,
     "metadata": {},
     "output_type": "execute_result"
    }
   ],
   "source": [
    "np.unique(arr)"
   ]
  },
  {
   "cell_type": "code",
   "execution_count": 63,
   "metadata": {},
   "outputs": [
    {
     "data": {
      "text/plain": [
       "array([7.38905610e+00, 5.45981500e+01, 1.48413159e+02, 1.00000000e+00,\n",
       "       4.03428793e+02, 3.26901737e+06, 5.45981500e+01, 2.71828183e+00,\n",
       "       4.97870684e-02])"
      ]
     },
     "execution_count": 63,
     "metadata": {},
     "output_type": "execute_result"
    }
   ],
   "source": [
    "np.exp(arr)"
   ]
  },
  {
   "cell_type": "code",
   "execution_count": 64,
   "metadata": {},
   "outputs": [
    {
     "data": {
      "text/plain": [
       "0"
      ]
     },
     "execution_count": 64,
     "metadata": {},
     "output_type": "execute_result"
    }
   ],
   "source": [
    "np.prod(arr)"
   ]
  },
  {
   "cell_type": "code",
   "execution_count": 65,
   "metadata": {},
   "outputs": [
    {
     "data": {
      "text/plain": [
       "nan"
      ]
     },
     "execution_count": 65,
     "metadata": {},
     "output_type": "execute_result"
    }
   ],
   "source": [
    "np.NaN"
   ]
  },
  {
   "cell_type": "code",
   "execution_count": 66,
   "metadata": {},
   "outputs": [
    {
     "name": "stdout",
     "output_type": "stream",
     "text": [
      "2\n",
      "4\n",
      "5\n",
      "0\n",
      "6\n",
      "15\n",
      "4\n",
      "1\n",
      "-3\n"
     ]
    }
   ],
   "source": [
    "for x in arr:\n",
    "    print(x)"
   ]
  },
  {
   "cell_type": "code",
   "execution_count": 67,
   "metadata": {},
   "outputs": [
    {
     "name": "stdout",
     "output_type": "stream",
     "text": [
      "[0.09364822 0.53979018 0.00663851]\n",
      "[0.27653857 0.12251463 0.14019969]\n"
     ]
    }
   ],
   "source": [
    "for x in aran:\n",
    "    print(x)"
   ]
  },
  {
   "cell_type": "code",
   "execution_count": 68,
   "metadata": {},
   "outputs": [
    {
     "name": "stdout",
     "output_type": "stream",
     "text": [
      "0 2\n",
      "1 4\n",
      "2 5\n",
      "3 0\n",
      "4 6\n",
      "5 15\n",
      "6 4\n",
      "7 1\n",
      "8 -3\n"
     ]
    }
   ],
   "source": [
    "for i in range(len(arr)):\n",
    "    print(i,arr[i])"
   ]
  },
  {
   "cell_type": "code",
   "execution_count": 69,
   "metadata": {},
   "outputs": [
    {
     "name": "stdout",
     "output_type": "stream",
     "text": [
      "0.09364822489313218\n",
      "0.5397901773051594\n",
      "0.006638505552191365\n",
      "0.27653856643598806\n",
      "0.12251462607369967\n",
      "0.14019969140245103\n"
     ]
    }
   ],
   "source": [
    "for x in aran:\n",
    "    for y in x:\n",
    "        print(y)"
   ]
  },
  {
   "cell_type": "code",
   "execution_count": 71,
   "metadata": {},
   "outputs": [
    {
     "name": "stdout",
     "output_type": "stream",
     "text": [
      "1\n",
      "2\n",
      "3\n",
      "4\n",
      "5\n",
      "6\n",
      "11\n",
      "22\n",
      "33\n",
      "44\n",
      "55\n",
      "66\n",
      "111\n",
      "222\n",
      "333\n",
      "444\n",
      "555\n",
      "666\n"
     ]
    }
   ],
   "source": [
    "for x in a3:\n",
    "    for y in x:\n",
    "        for z in y:\n",
    "            print(z)"
   ]
  },
  {
   "cell_type": "code",
   "execution_count": 72,
   "metadata": {},
   "outputs": [
    {
     "name": "stdout",
     "output_type": "stream",
     "text": [
      " nditer()\n",
      "\n",
      "nditer(op, flags=None, op_flags=None, op_dtypes=None, order='K', casting='safe', op_axes=None, itershape=None, buffersize=0)\n",
      "\n",
      "Efficient multi-dimensional iterator object to iterate over arrays.\n",
      "To get started using this object, see the\n",
      ":ref:`introductory guide to array iteration <arrays.nditer>`.\n",
      "\n",
      "Parameters\n",
      "----------\n",
      "op : ndarray or sequence of array_like\n",
      "    The array(s) to iterate over.\n",
      "\n",
      "flags : sequence of str, optional\n",
      "      Flags to control the behavior of the iterator.\n",
      "\n",
      "      * ``buffered`` enables buffering when required.\n",
      "      * ``c_index`` causes a C-order index to be tracked.\n",
      "      * ``f_index`` causes a Fortran-order index to be tracked.\n",
      "      * ``multi_index`` causes a multi-index, or a tuple of indices\n",
      "        with one per iteration dimension, to be tracked.\n",
      "      * ``common_dtype`` causes all the operands to be converted to\n",
      "        a common data type, with copying or buffering as necessary.\n",
      "      * ``copy_if_overlap`` causes the iterator to determine if read\n",
      "        operands have overlap with write operands, and make temporary\n",
      "        copies as necessary to avoid overlap. False positives (needless\n",
      "        copying) are possible in some cases.\n",
      "      * ``delay_bufalloc`` delays allocation of the buffers until\n",
      "        a reset() call is made. Allows ``allocate`` operands to\n",
      "        be initialized before their values are copied into the buffers.\n",
      "      * ``external_loop`` causes the ``values`` given to be\n",
      "        one-dimensional arrays with multiple values instead of\n",
      "        zero-dimensional arrays.\n",
      "      * ``grow_inner`` allows the ``value`` array sizes to be made\n",
      "        larger than the buffer size when both ``buffered`` and\n",
      "        ``external_loop`` is used.\n",
      "      * ``ranged`` allows the iterator to be restricted to a sub-range\n",
      "        of the iterindex values.\n",
      "      * ``refs_ok`` enables iteration of reference types, such as\n",
      "        object arrays.\n",
      "      * ``reduce_ok`` enables iteration of ``readwrite`` operands\n",
      "        which are broadcasted, also known as reduction operands.\n",
      "      * ``zerosize_ok`` allows `itersize` to be zero.\n",
      "op_flags : list of list of str, optional\n",
      "      This is a list of flags for each operand. At minimum, one of\n",
      "      ``readonly``, ``readwrite``, or ``writeonly`` must be specified.\n",
      "\n",
      "      * ``readonly`` indicates the operand will only be read from.\n",
      "      * ``readwrite`` indicates the operand will be read from and written to.\n",
      "      * ``writeonly`` indicates the operand will only be written to.\n",
      "      * ``no_broadcast`` prevents the operand from being broadcasted.\n",
      "      * ``contig`` forces the operand data to be contiguous.\n",
      "      * ``aligned`` forces the operand data to be aligned.\n",
      "      * ``nbo`` forces the operand data to be in native byte order.\n",
      "      * ``copy`` allows a temporary read-only copy if required.\n",
      "      * ``updateifcopy`` allows a temporary read-write copy if required.\n",
      "      * ``allocate`` causes the array to be allocated if it is None\n",
      "        in the ``op`` parameter.\n",
      "      * ``no_subtype`` prevents an ``allocate`` operand from using a subtype.\n",
      "      * ``arraymask`` indicates that this operand is the mask to use\n",
      "        for selecting elements when writing to operands with the\n",
      "        'writemasked' flag set. The iterator does not enforce this,\n",
      "        but when writing from a buffer back to the array, it only\n",
      "        copies those elements indicated by this mask.\n",
      "      * ``writemasked`` indicates that only elements where the chosen\n",
      "        ``arraymask`` operand is True will be written to.\n",
      "      * ``overlap_assume_elementwise`` can be used to mark operands that are\n",
      "        accessed only in the iterator order, to allow less conservative\n",
      "        copying when ``copy_if_overlap`` is present.\n",
      "op_dtypes : dtype or tuple of dtype(s), optional\n",
      "    The required data type(s) of the operands. If copying or buffering\n",
      "    is enabled, the data will be converted to/from their original types.\n",
      "order : {'C', 'F', 'A', 'K'}, optional\n",
      "    Controls the iteration order. 'C' means C order, 'F' means\n",
      "    Fortran order, 'A' means 'F' order if all the arrays are Fortran\n",
      "    contiguous, 'C' order otherwise, and 'K' means as close to the\n",
      "    order the array elements appear in memory as possible. This also\n",
      "    affects the element memory order of ``allocate`` operands, as they\n",
      "    are allocated to be compatible with iteration order.\n",
      "    Default is 'K'.\n",
      "casting : {'no', 'equiv', 'safe', 'same_kind', 'unsafe'}, optional\n",
      "    Controls what kind of data casting may occur when making a copy\n",
      "    or buffering.  Setting this to 'unsafe' is not recommended,\n",
      "    as it can adversely affect accumulations.\n",
      "\n",
      "    * 'no' means the data types should not be cast at all.\n",
      "    * 'equiv' means only byte-order changes are allowed.\n",
      "    * 'safe' means only casts which can preserve values are allowed.\n",
      "    * 'same_kind' means only safe casts or casts within a kind,\n",
      "      like float64 to float32, are allowed.\n",
      "    * 'unsafe' means any data conversions may be done.\n",
      "op_axes : list of list of ints, optional\n",
      "    If provided, is a list of ints or None for each operands.\n",
      "    The list of axes for an operand is a mapping from the dimensions\n",
      "    of the iterator to the dimensions of the operand. A value of\n",
      "    -1 can be placed for entries, causing that dimension to be\n",
      "    treated as `newaxis`.\n",
      "itershape : tuple of ints, optional\n",
      "    The desired shape of the iterator. This allows ``allocate`` operands\n",
      "    with a dimension mapped by op_axes not corresponding to a dimension\n",
      "    of a different operand to get a value not equal to 1 for that\n",
      "    dimension.\n",
      "buffersize : int, optional\n",
      "    When buffering is enabled, controls the size of the temporary\n",
      "    buffers. Set to 0 for the default value.\n",
      "\n",
      "Attributes\n",
      "----------\n",
      "dtypes : tuple of dtype(s)\n",
      "    The data types of the values provided in `value`. This may be\n",
      "    different from the operand data types if buffering is enabled.\n",
      "    Valid only before the iterator is closed.\n",
      "finished : bool\n",
      "    Whether the iteration over the operands is finished or not.\n",
      "has_delayed_bufalloc : bool\n",
      "    If True, the iterator was created with the ``delay_bufalloc`` flag,\n",
      "    and no reset() function was called on it yet.\n",
      "has_index : bool\n",
      "    If True, the iterator was created with either the ``c_index`` or\n",
      "    the ``f_index`` flag, and the property `index` can be used to\n",
      "    retrieve it.\n",
      "has_multi_index : bool\n",
      "    If True, the iterator was created with the ``multi_index`` flag,\n",
      "    and the property `multi_index` can be used to retrieve it.\n",
      "index\n",
      "    When the ``c_index`` or ``f_index`` flag was used, this property\n",
      "    provides access to the index. Raises a ValueError if accessed\n",
      "    and ``has_index`` is False.\n",
      "iterationneedsapi : bool\n",
      "    Whether iteration requires access to the Python API, for example\n",
      "    if one of the operands is an object array.\n",
      "iterindex : int\n",
      "    An index which matches the order of iteration.\n",
      "itersize : int\n",
      "    Size of the iterator.\n",
      "itviews\n",
      "    Structured view(s) of `operands` in memory, matching the reordered\n",
      "    and optimized iterator access pattern. Valid only before the iterator\n",
      "    is closed.\n",
      "multi_index\n",
      "    When the ``multi_index`` flag was used, this property\n",
      "    provides access to the index. Raises a ValueError if accessed\n",
      "    accessed and ``has_multi_index`` is False.\n",
      "ndim : int\n",
      "    The dimensions of the iterator.\n",
      "nop : int\n",
      "    The number of iterator operands.\n",
      "operands : tuple of operand(s)\n",
      "    The array(s) to be iterated over. Valid only before the iterator is\n",
      "    closed.\n",
      "shape : tuple of ints\n",
      "    Shape tuple, the shape of the iterator.\n",
      "value\n",
      "    Value of ``operands`` at current iteration. Normally, this is a\n",
      "    tuple of array scalars, but if the flag ``external_loop`` is used,\n",
      "    it is a tuple of one dimensional arrays.\n",
      "\n",
      "Notes\n",
      "-----\n",
      "`nditer` supersedes `flatiter`.  The iterator implementation behind\n",
      "`nditer` is also exposed by the NumPy C API.\n",
      "\n",
      "The Python exposure supplies two iteration interfaces, one which follows\n",
      "the Python iterator protocol, and another which mirrors the C-style\n",
      "do-while pattern.  The native Python approach is better in most cases, but\n",
      "if you need the coordinates or index of an iterator, use the C-style pattern.\n",
      "\n",
      "Examples\n",
      "--------\n",
      "Here is how we might write an ``iter_add`` function, using the\n",
      "Python iterator protocol:\n",
      "\n",
      ">>> def iter_add_py(x, y, out=None):\n",
      "...     addop = np.add\n",
      "...     it = np.nditer([x, y, out], [],\n",
      "...                 [['readonly'], ['readonly'], ['writeonly','allocate']])\n",
      "...     with it:\n",
      "...         for (a, b, c) in it:\n",
      "...             addop(a, b, out=c)\n",
      "...         return it.operands[2]\n",
      "\n",
      "Here is the same function, but following the C-style pattern:\n",
      "\n",
      ">>> def iter_add(x, y, out=None):\n",
      "...    addop = np.add\n",
      "...    it = np.nditer([x, y, out], [],\n",
      "...                [['readonly'], ['readonly'], ['writeonly','allocate']])\n",
      "...    with it:\n",
      "...        while not it.finished:\n",
      "...            addop(it[0], it[1], out=it[2])\n",
      "...            it.iternext()\n",
      "...        return it.operands[2]\n",
      "\n",
      "Here is an example outer product function:\n",
      "\n",
      ">>> def outer_it(x, y, out=None):\n",
      "...     mulop = np.multiply\n",
      "...     it = np.nditer([x, y, out], ['external_loop'],\n",
      "...             [['readonly'], ['readonly'], ['writeonly', 'allocate']],\n",
      "...             op_axes=[list(range(x.ndim)) + [-1] * y.ndim,\n",
      "...                      [-1] * x.ndim + list(range(y.ndim)),\n",
      "...                      None])\n",
      "...     with it:\n",
      "...         for (a, b, c) in it:\n",
      "...             mulop(a, b, out=c)\n",
      "...         return it.operands[2]\n",
      "\n",
      ">>> a = np.arange(2)+1\n",
      ">>> b = np.arange(3)+1\n",
      ">>> outer_it(a,b)\n",
      "array([[1, 2, 3],\n",
      "       [2, 4, 6]])\n",
      "\n",
      "Here is an example function which operates like a \"lambda\" ufunc:\n",
      "\n",
      ">>> def luf(lamdaexpr, *args, **kwargs):\n",
      "...    '''luf(lambdaexpr, op1, ..., opn, out=None, order='K', casting='safe', buffersize=0)'''\n",
      "...    nargs = len(args)\n",
      "...    op = (kwargs.get('out',None),) + args\n",
      "...    it = np.nditer(op, ['buffered','external_loop'],\n",
      "...            [['writeonly','allocate','no_broadcast']] +\n",
      "...                            [['readonly','nbo','aligned']]*nargs,\n",
      "...            order=kwargs.get('order','K'),\n",
      "...            casting=kwargs.get('casting','safe'),\n",
      "...            buffersize=kwargs.get('buffersize',0))\n",
      "...    while not it.finished:\n",
      "...        it[0] = lamdaexpr(*it[1:])\n",
      "...        it.iternext()\n",
      "...    return it.operands[0]\n",
      "\n",
      ">>> a = np.arange(5)\n",
      ">>> b = np.ones(5)\n",
      ">>> luf(lambda i,j:i*i + j/2, a, b)\n",
      "array([  0.5,   1.5,   4.5,   9.5,  16.5])\n",
      "\n",
      "If operand flags ``\"writeonly\"`` or ``\"readwrite\"`` are used the\n",
      "operands may be views into the original data with the\n",
      "`WRITEBACKIFCOPY` flag. In this case `nditer` must be used as a\n",
      "context manager or the `nditer.close` method must be called before\n",
      "using the result. The temporary data will be written back to the\n",
      "original data when the `__exit__` function is called but not before:\n",
      "\n",
      ">>> a = np.arange(6, dtype='i4')[::-2]\n",
      ">>> with np.nditer(a, [],\n",
      "...        [['writeonly', 'updateifcopy']],\n",
      "...        casting='unsafe',\n",
      "...        op_dtypes=[np.dtype('f4')]) as i:\n",
      "...    x = i.operands[0]\n",
      "...    x[:] = [-1, -2, -3]\n",
      "...    # a still unchanged here\n",
      ">>> a, x\n",
      "(array([-1, -2, -3], dtype=int32), array([-1., -2., -3.], dtype=float32))\n",
      "\n",
      "It is important to note that once the iterator is exited, dangling\n",
      "references (like `x` in the example) may or may not share data with\n",
      "the original data `a`. If writeback semantics were active, i.e. if\n",
      "`x.base.flags.writebackifcopy` is `True`, then exiting the iterator\n",
      "will sever the connection between `x` and `a`, writing to `x` will\n",
      "no longer write to `a`. If writeback semantics are not active, then\n",
      "`x.data` will still point at some part of `a.data`, and writing to\n",
      "one will affect the other.\n",
      "\n",
      "Context management and the `close` method appeared in version 1.15.0.\n",
      "\n",
      "\n",
      "Methods:\n",
      "\n",
      "  close  --  close()\n",
      "  copy  --  copy()\n",
      "  debug_print  --  debug_print()\n",
      "  enable_external_loop  --  enable_external_loop()\n",
      "  iternext  --  iternext()\n",
      "  remove_axis  --  remove_axis(i, /)\n",
      "  remove_multi_index  --  remove_multi_index()\n",
      "  reset  --  reset()\n"
     ]
    }
   ],
   "source": [
    "np.info(np.nditer)"
   ]
  },
  {
   "cell_type": "code",
   "execution_count": 73,
   "metadata": {},
   "outputs": [
    {
     "name": "stdout",
     "output_type": "stream",
     "text": [
      "1\n",
      "2\n",
      "3\n",
      "4\n",
      "5\n",
      "6\n",
      "11\n",
      "22\n",
      "33\n",
      "44\n",
      "55\n",
      "66\n",
      "111\n",
      "222\n",
      "333\n",
      "444\n",
      "555\n",
      "666\n"
     ]
    }
   ],
   "source": [
    "for x in np.nditer(a3): #aplana el array, pierdes la posicion\n",
    "    print(x)"
   ]
  },
  {
   "cell_type": "code",
   "execution_count": 74,
   "metadata": {},
   "outputs": [
    {
     "name": "stdout",
     "output_type": "stream",
     "text": [
      " ndenumerate(arr)\n",
      "\n",
      "Multidimensional index iterator.\n",
      "\n",
      "Return an iterator yielding pairs of array coordinates and values.\n",
      "\n",
      "Parameters\n",
      "----------\n",
      "arr : ndarray\n",
      "  Input array.\n",
      "\n",
      "See Also\n",
      "--------\n",
      "ndindex, flatiter\n",
      "\n",
      "Examples\n",
      "--------\n",
      ">>> a = np.array([[1, 2], [3, 4]])\n",
      ">>> for index, x in np.ndenumerate(a):\n",
      "...     print(index, x)\n",
      "(0, 0) 1\n",
      "(0, 1) 2\n",
      "(1, 0) 3\n",
      "(1, 1) 4\n"
     ]
    }
   ],
   "source": [
    "np.info(np.ndenumerate) #muestra elementos y posiciones"
   ]
  },
  {
   "cell_type": "code",
   "execution_count": 76,
   "metadata": {},
   "outputs": [
    {
     "name": "stdout",
     "output_type": "stream",
     "text": [
      "(0, 0, 0) 1\n",
      "(0, 0, 1) 2\n",
      "(0, 0, 2) 3\n",
      "(0, 1, 0) 4\n",
      "(0, 1, 1) 5\n",
      "(0, 1, 2) 6\n",
      "(1, 0, 0) 11\n",
      "(1, 0, 1) 22\n",
      "(1, 0, 2) 33\n",
      "(1, 1, 0) 44\n",
      "(1, 1, 1) 55\n",
      "(1, 1, 2) 66\n",
      "(2, 0, 0) 111\n",
      "(2, 0, 1) 222\n",
      "(2, 0, 2) 333\n",
      "(2, 1, 0) 444\n",
      "(2, 1, 1) 555\n",
      "(2, 1, 2) 666\n"
     ]
    }
   ],
   "source": [
    "for pos, x in np.ndenumerate(a3):\n",
    "    print(pos,x)"
   ]
  },
  {
   "cell_type": "code",
   "execution_count": 77,
   "metadata": {},
   "outputs": [
    {
     "name": "stdout",
     "output_type": "stream",
     "text": [
      " where()\n",
      "\n",
      "where(condition, [x, y], /)\n",
      "\n",
      "Return elements chosen from `x` or `y` depending on `condition`.\n",
      "\n",
      ".. note::\n",
      "    When only `condition` is provided, this function is a shorthand for\n",
      "    ``np.asarray(condition).nonzero()``. Using `nonzero` directly should be\n",
      "    preferred, as it behaves correctly for subclasses. The rest of this\n",
      "    documentation covers only the case where all three arguments are\n",
      "    provided.\n",
      "\n",
      "Parameters\n",
      "----------\n",
      "condition : array_like, bool\n",
      "    Where True, yield `x`, otherwise yield `y`.\n",
      "x, y : array_like\n",
      "    Values from which to choose. `x`, `y` and `condition` need to be\n",
      "    broadcastable to some shape.\n",
      "\n",
      "Returns\n",
      "-------\n",
      "out : ndarray\n",
      "    An array with elements from `x` where `condition` is True, and elements\n",
      "    from `y` elsewhere.\n",
      "\n",
      "See Also\n",
      "--------\n",
      "choose\n",
      "nonzero : The function that is called when x and y are omitted\n",
      "\n",
      "Notes\n",
      "-----\n",
      "If all the arrays are 1-D, `where` is equivalent to::\n",
      "\n",
      "    [xv if c else yv\n",
      "     for c, xv, yv in zip(condition, x, y)]\n",
      "\n",
      "Examples\n",
      "--------\n",
      ">>> a = np.arange(10)\n",
      ">>> a\n",
      "array([0, 1, 2, 3, 4, 5, 6, 7, 8, 9])\n",
      ">>> np.where(a < 5, a, 10*a)\n",
      "array([ 0,  1,  2,  3,  4, 50, 60, 70, 80, 90])\n",
      "\n",
      "This can be used on multidimensional arrays too:\n",
      "\n",
      ">>> np.where([[True, False], [True, True]],\n",
      "...          [[1, 2], [3, 4]],\n",
      "...          [[9, 8], [7, 6]])\n",
      "array([[1, 8],\n",
      "       [3, 4]])\n",
      "\n",
      "The shapes of x, y, and the condition are broadcast together:\n",
      "\n",
      ">>> x, y = np.ogrid[:3, :4]\n",
      ">>> np.where(x < y, x, 10 + y)  # both x and 10+y are broadcast\n",
      "array([[10,  0,  0,  0],\n",
      "       [10, 11,  1,  1],\n",
      "       [10, 11, 12,  2]])\n",
      "\n",
      ">>> a = np.array([[0, 1, 2],\n",
      "...               [0, 2, 4],\n",
      "...               [0, 3, 6]])\n",
      ">>> np.where(a < 4, a, -1)  # -1 is broadcast\n",
      "array([[ 0,  1,  2],\n",
      "       [ 0,  2, -1],\n",
      "       [ 0,  3, -1]])\n"
     ]
    }
   ],
   "source": [
    "np.info(np.where)"
   ]
  },
  {
   "cell_type": "code",
   "execution_count": 4,
   "metadata": {},
   "outputs": [
    {
     "data": {
      "text/plain": [
       "(array([0, 0, 0, 0, 0, 1, 1, 1, 1, 1, 1, 2, 2, 2, 2, 2, 2]),\n",
       " array([0, 0, 1, 1, 1, 0, 0, 0, 1, 1, 1, 0, 0, 0, 1, 1, 1]),\n",
       " array([1, 2, 0, 1, 2, 0, 1, 2, 0, 1, 2, 0, 1, 2, 0, 1, 2]))"
      ]
     },
     "execution_count": 4,
     "metadata": {},
     "output_type": "execute_result"
    }
   ],
   "source": [
    "np.where(a3>1)"
   ]
  },
  {
   "cell_type": "code",
   "execution_count": 11,
   "metadata": {},
   "outputs": [
    {
     "name": "stdout",
     "output_type": "stream",
     "text": [
      "[[[ 1  2]\n",
      "  [ 3  4]]\n",
      "\n",
      " [[ 5  6]\n",
      "  [ 7  8]]\n",
      "\n",
      " [[ 9 10]\n",
      "  [11 12]]]\n",
      "[ 1  2  3  4  5  6  7  8  9 10 11 12]\n"
     ]
    }
   ],
   "source": [
    "arr1=np.array([1,2,3,4,5,6,7,8,9,10,11,12])\n",
    "arr2=arr1.reshape([3,2,2])\n",
    "print(arr2)\n",
    "arro=arr2.reshape(12)\n",
    "print(arro)"
   ]
  },
  {
   "cell_type": "code",
   "execution_count": 15,
   "metadata": {},
   "outputs": [
    {
     "name": "stdout",
     "output_type": "stream",
     "text": [
      "[[ 2  4  6]\n",
      " [ 8 10 12]]\n",
      "[[ 1  2  3]\n",
      " [ 8 10 12]]\n"
     ]
    }
   ],
   "source": [
    "a=np.array([[1,2,3],[4,5,6]])\n",
    "b=np.array([[1,1,1],[2,2,2]])\n",
    "print(a*2)\n",
    "print(a*b)"
   ]
  },
  {
   "cell_type": "code",
   "execution_count": 17,
   "metadata": {},
   "outputs": [
    {
     "name": "stdout",
     "output_type": "stream",
     "text": [
      "[[ 5  5]\n",
      " [14 14]]\n"
     ]
    }
   ],
   "source": [
    "a=np.array([[1,2],[4,5]])\n",
    "b=np.array([[1,1],[2,2]])\n",
    "print(a@b)"
   ]
  },
  {
   "cell_type": "code",
   "execution_count": 18,
   "metadata": {},
   "outputs": [
    {
     "name": "stdout",
     "output_type": "stream",
     "text": [
      "6.782329983125268\n"
     ]
    }
   ],
   "source": [
    "print(np.linalg.norm(a))"
   ]
  },
  {
   "cell_type": "code",
   "execution_count": 19,
   "metadata": {},
   "outputs": [
    {
     "data": {
      "text/plain": [
       "array([[1, 4],\n",
       "       [2, 5]])"
      ]
     },
     "execution_count": 19,
     "metadata": {},
     "output_type": "execute_result"
    }
   ],
   "source": [
    "a.T"
   ]
  },
  {
   "cell_type": "code",
   "execution_count": 20,
   "metadata": {},
   "outputs": [
    {
     "name": "stdout",
     "output_type": "stream",
     "text": [
      "-2.9999999999999996\n"
     ]
    }
   ],
   "source": [
    "print(np.linalg.det(a))"
   ]
  },
  {
   "cell_type": "code",
   "execution_count": 23,
   "metadata": {},
   "outputs": [
    {
     "data": {
      "text/plain": [
       "array([ 1.        , -0.27272727,  0.18181818])"
      ]
     },
     "execution_count": 23,
     "metadata": {},
     "output_type": "execute_result"
    }
   ],
   "source": [
    "# 1x+2y = 1\n",
    "# 3x+5y = 2\n",
    "a=np.array([[1,2,3],[3,5,2],[4,2,3]])\n",
    "b=np.array([1,2,4])\n",
    "\n",
    "np.linalg.solve(a,b)\n"
   ]
  }
 ],
 "metadata": {
  "kernelspec": {
   "display_name": "Python 3.8 - AzureML",
   "language": "python",
   "name": "python38-azureml"
  },
  "language_info": {
   "codemirror_mode": {
    "name": "ipython",
    "version": 3
   },
   "file_extension": ".py",
   "mimetype": "text/x-python",
   "name": "python",
   "nbconvert_exporter": "python",
   "pygments_lexer": "ipython3",
   "version": "3.10.11"
  }
 },
 "nbformat": 4,
 "nbformat_minor": 2
}
