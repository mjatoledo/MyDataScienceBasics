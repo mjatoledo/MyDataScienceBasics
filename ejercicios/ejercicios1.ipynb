{
 "cells": [
  {
   "cell_type": "markdown",
   "metadata": {},
   "source": [
    "\n",
    "#Ejercicios Numpy\n"
   ]
  },
  {
   "cell_type": "code",
   "execution_count": 2,
   "metadata": {},
   "outputs": [],
   "source": [
    "# Ejercicio 1.\n",
    "# Crea arrays de 1, 2 y 3 dimensiones. Las longitudes deben ser las siguientes, respectivamente: 6, 3 x 2 y 2 x 3 x 4\n",
    "\n",
    "import numpy as np"
   ]
  },
  {
   "cell_type": "code",
   "execution_count": 5,
   "metadata": {},
   "outputs": [
    {
     "name": "stdout",
     "output_type": "stream",
     "text": [
      "[0.20604426 0.50226745 0.78791839 0.03120475 0.06119887 0.43079994]\n",
      "[[0.72473678 0.14429915]\n",
      " [0.04889867 0.74982456]\n",
      " [0.24469388 0.81941781]]\n",
      "[[[0.85344606 0.71809257 0.56381109 0.09996367]\n",
      "  [0.14574285 0.62935561 0.43208651 0.70368935]\n",
      "  [0.17461246 0.59677413 0.18283593 0.45814574]]\n",
      "\n",
      " [[0.951578   0.98563158 0.42374734 0.77636093]\n",
      "  [0.3748357  0.95954375 0.34370524 0.64735397]\n",
      "  [0.88316092 0.58687364 0.5831784  0.14330814]]]\n"
     ]
    }
   ],
   "source": [
    "a1 = np.random.random(6)\n",
    "print(a1)\n",
    "\n",
    "a2= np.random.random([3,2])\n",
    "print(a2)\n",
    "\n",
    "a3= np.random.random([2,3,4])\n",
    "print(a3)"
   ]
  },
  {
   "cell_type": "code",
   "execution_count": 52,
   "metadata": {},
   "outputs": [],
   "source": [
    "# Ejercicio 2.\n",
    "# Crea una función que te haga un resumen estadístico básico de un array (cuartiles, mediana, media, varianza, etc) si tiene una dimensión. \n",
    "# Si tiene más de una, muestra un mensaje de alerta.\n",
    "\n",
    "def resumen_std (array):\n",
    "    if array.ndim == 1:\n",
    "        resumen = {'media:':np.mean(array),\n",
    "                   'mediana:':np.median(array)}\n",
    "        return(resumen)\n",
    "\n",
    "    else: \n",
    "        print(\"el array no tiene 2 dimensiones\")\n",
    "    "
   ]
  },
  {
   "cell_type": "code",
   "execution_count": 55,
   "metadata": {},
   "outputs": [
    {
     "name": "stdout",
     "output_type": "stream",
     "text": [
      "el array no tiene 2 dimensiones\n",
      "el array no tiene 2 dimensiones\n",
      "{'media:': 0.3365722765067045, 'mediana:': 0.3184221000135275}\n",
      "None\n",
      "None\n"
     ]
    }
   ],
   "source": [
    "resumen1=resumen_std(a1)\n",
    "resumen2=resumen_std(a2)\n",
    "resumen3=resumen_std(a3)\n",
    "\n",
    "print(resumen1)\n",
    "print(resumen2)\n",
    "print(resumen3)"
   ]
  },
  {
   "cell_type": "code",
   "execution_count": 11,
   "metadata": {},
   "outputs": [
    {
     "data": {
      "text/plain": [
       "array([[[ 1,  2,  3],\n",
       "        [ 4,  5,  6]],\n",
       "\n",
       "       [[ 7,  8,  9],\n",
       "        [10, 11, 12]],\n",
       "\n",
       "       [[13, 14, 15],\n",
       "        [16, 17, 18]],\n",
       "\n",
       "       [[19, 20, 21],\n",
       "        [22, 23, 24]]])"
      ]
     },
     "execution_count": 11,
     "metadata": {},
     "output_type": "execute_result"
    }
   ],
   "source": [
    "# Ejercicio 3.\n",
    "# Crea un array de 3 dimensiones parecido al que te doy a continuación, y sin ejecutar las instrucciones siguientes, \n",
    "# intenta razonar qué números devolverán (si funcionan, claro)\n",
    "\n",
    "arr = np.array([[[1, 2, 3], [4, 5, 6]], [[7, 8, 9], [10, 11, 12]], [[13, 14, 15],[16, 17, 18]], [[19, 20, 21],[22, 23, 24]] ])\n",
    "arr"
   ]
  },
  {
   "cell_type": "code",
   "execution_count": 12,
   "metadata": {},
   "outputs": [
    {
     "data": {
      "text/plain": [
       "24"
      ]
     },
     "execution_count": 12,
     "metadata": {},
     "output_type": "execute_result"
    }
   ],
   "source": [
    "arr[-1,-1,-1]"
   ]
  },
  {
   "cell_type": "code",
   "execution_count": 13,
   "metadata": {},
   "outputs": [
    {
     "data": {
      "text/plain": [
       "array([4, 5, 6])"
      ]
     },
     "execution_count": 13,
     "metadata": {},
     "output_type": "execute_result"
    }
   ],
   "source": [
    "arr[0,1,:]"
   ]
  },
  {
   "cell_type": "code",
   "execution_count": 14,
   "metadata": {},
   "outputs": [
    {
     "data": {
      "text/plain": [
       "array([[ 1,  2,  3],\n",
       "       [ 7,  8,  9],\n",
       "       [13, 14, 15],\n",
       "       [19, 20, 21]])"
      ]
     },
     "execution_count": 14,
     "metadata": {},
     "output_type": "execute_result"
    }
   ],
   "source": [
    "arr[:,0,:]"
   ]
  },
  {
   "cell_type": "code",
   "execution_count": 15,
   "metadata": {},
   "outputs": [
    {
     "data": {
      "text/plain": [
       "array([[ 3,  6],\n",
       "       [ 9, 12],\n",
       "       [15, 18],\n",
       "       [21, 24]])"
      ]
     },
     "execution_count": 15,
     "metadata": {},
     "output_type": "execute_result"
    }
   ],
   "source": [
    "arr[:,:,-1]"
   ]
  },
  {
   "cell_type": "code",
   "execution_count": 16,
   "metadata": {},
   "outputs": [
    {
     "ename": "IndexError",
     "evalue": "index 2 is out of bounds for axis 1 with size 2",
     "output_type": "error",
     "traceback": [
      "\u001b[0;31m---------------------------------------------------------------------------\u001b[0m",
      "\u001b[0;31mIndexError\u001b[0m                                Traceback (most recent call last)",
      "Cell \u001b[0;32mIn[16], line 1\u001b[0m\n\u001b[0;32m----> 1\u001b[0m \u001b[43marr\u001b[49m\u001b[43m[\u001b[49m\u001b[38;5;241;43m1\u001b[39;49m\u001b[43m,\u001b[49m\u001b[38;5;241;43m2\u001b[39;49m\u001b[43m,\u001b[49m\u001b[38;5;241;43m3\u001b[39;49m\u001b[43m]\u001b[49m\n",
      "\u001b[0;31mIndexError\u001b[0m: index 2 is out of bounds for axis 1 with size 2"
     ]
    }
   ],
   "source": [
    "arr[1,2,3]"
   ]
  },
  {
   "cell_type": "code",
   "execution_count": 17,
   "metadata": {},
   "outputs": [
    {
     "data": {
      "text/plain": [
       "16"
      ]
     },
     "execution_count": 17,
     "metadata": {},
     "output_type": "execute_result"
    }
   ],
   "source": [
    "arr[2,1,0]"
   ]
  },
  {
   "cell_type": "code",
   "execution_count": 18,
   "metadata": {},
   "outputs": [
    {
     "data": {
      "text/plain": [
       "array([[[ 1,  2,  3],\n",
       "        [ 4,  5,  6]],\n",
       "\n",
       "       [[13, 14, 15],\n",
       "        [16, 17, 18]]])"
      ]
     },
     "execution_count": 18,
     "metadata": {},
     "output_type": "execute_result"
    }
   ],
   "source": [
    "arr[::2,:,:] #Todas las posiciones saltando de 2 en dos en la primera dimension"
   ]
  },
  {
   "cell_type": "code",
   "execution_count": 24,
   "metadata": {},
   "outputs": [
    {
     "data": {
      "text/plain": [
       "array([[76, 51,  3, 54, 58],\n",
       "       [22, 78, 21, 73, 21],\n",
       "       [93, 49, 28,  0, 11],\n",
       "       [89, 46, 69, 81, 99],\n",
       "       [24, 69, 40, 97, 42]])"
      ]
     },
     "execution_count": 24,
     "metadata": {},
     "output_type": "execute_result"
    }
   ],
   "source": [
    "# Ejercicio 4.\n",
    "# Crea un array de 3 x 3 que contenga valores aleatorios entre el 0 y el 100. \n",
    "# Tendrás que usar el submódulo random. \n",
    "# Una vez tengas el código, transfórmalo a una función que te permita crear arrays de tamaño N x N\n",
    "\n",
    "b1=np.random.randint(0,100,size=(3,3))\n",
    "b1\n",
    "\n",
    "def genera_random (N):\n",
    "    array_random=np.random.randint(0,100,size=(N,N))\n",
    "    return array_random\n",
    "\n",
    "genera_random(3)\n",
    "genera_random(5)\n"
   ]
  },
  {
   "cell_type": "code",
   "execution_count": 58,
   "metadata": {},
   "outputs": [
    {
     "name": "stdout",
     "output_type": "stream",
     "text": [
      "el numero es diferente de 5\n",
      "None\n",
      "[[1. 1. 1. 1. 1.]\n",
      " [1. 0. 0. 0. 1.]\n",
      " [1. 0. 0. 0. 1.]\n",
      " [1. 0. 0. 0. 1.]\n",
      " [1. 1. 1. 1. 1.]]\n"
     ]
    }
   ],
   "source": [
    "#Ejercicio 5.\n",
    "#Crea una función que dependa de un número. Si la función se ejecuta con el número 5, debe devolver el siguiente array:\n",
    "\n",
    "#1 1 1 1 1\n",
    "#1 0 0 0 1\n",
    "#1 0 0 0 1\n",
    "#1 0 0 0 1\n",
    "#1 1 1 1 1\n",
    "\n",
    "def devuelve (n):\n",
    "\n",
    "    if n==5:\n",
    "        arr=np.ones([5,5])\n",
    "        arr[1:-1, 1:-1] = np.zeros([3,3])\n",
    "        #print(arr)\n",
    "        return (arr)\n",
    "    else:\n",
    "        print(\"el numero es diferente de 5\")\n",
    "\n",
    "\n",
    "arr1=devuelve(4)\n",
    "print(arr1)\n",
    "arr2=devuelve(5)\n",
    "print(arr2)\n",
    "\n"
   ]
  },
  {
   "cell_type": "code",
   "execution_count": null,
   "metadata": {},
   "outputs": [],
   "source": [
    "# Ejercicio 6.\n",
    "# Crea una función que te detecte las dimensiones de un array, y te diga cuántos datos faltantes contiene. \n",
    "# Crea unos datos de ejemplo para comprobarlo."
   ]
  },
  {
   "cell_type": "code",
   "execution_count": 62,
   "metadata": {},
   "outputs": [
    {
     "name": "stdout",
     "output_type": "stream",
     "text": [
      "2 3\n"
     ]
    },
    {
     "data": {
      "text/plain": [
       "3"
      ]
     },
     "execution_count": 62,
     "metadata": {},
     "output_type": "execute_result"
    }
   ],
   "source": [
    "def falta (array):\n",
    "\n",
    "    dimension = np.ndim(array)\n",
    "    missing_data_count = np.isnan(array3).sum()\n",
    "\n",
    "    return dimension, missing_data_count\n",
    "\n",
    "array3 = np.array([[1, 2, np.nan, 7, 4, 0],[1, 2, np.nan, 7, 4, np.nan] ])\n",
    "dim,missing=falta(array3)\n",
    "print(dim, missing)\n",
    "\n",
    "\n",
    "# Otra opcion es utilizar la funcion flatten para aplanar antes de contar\n",
    "sum(np.isnan(array3.flatten()))\n",
    "\n",
    "\n"
   ]
  },
  {
   "cell_type": "code",
   "execution_count": 76,
   "metadata": {},
   "outputs": [
    {
     "name": "stdout",
     "output_type": "stream",
     "text": [
      "[[ 8]\n",
      " [27]]\n",
      "[ 9  9 10  7]\n",
      "35\n"
     ]
    },
    {
     "data": {
      "text/plain": [
       "array([[ 3,  2,  1,  2,  8],\n",
       "       [ 6,  7,  9,  5, 27]])"
      ]
     },
     "execution_count": 76,
     "metadata": {},
     "output_type": "execute_result"
    }
   ],
   "source": [
    "# Ejercicio 7.\n",
    "# Crea una función que te calcule los márgenes de una tabla, es decir, la suma por columnas, la suma por filas y el total. \n",
    "# Idealmente, añadelo a la tabla original\n",
    "\n",
    "arr = np.array( [[3,2,1,2]  ,  \n",
    "                 [6,7,9,5]] )\n",
    "\n",
    "# [3,2,1,2,8]\n",
    "# [6,7,9,5,27]\n",
    "# [9,9,10,7,35]\n",
    "\n",
    "suma_columnas=(np.sum(arr, axis=0)) #suma columnas\n",
    "suma_filas=(np.sum(arr, axis=1).reshape(-1,1)) #suma filas y da la vuelta\n",
    "total=(np.sum(arr))\n",
    "\n",
    "#help(np.hstack) #concatena en horizontal\n",
    "#help(np.vstack) #concatena en vertical\n",
    "\n",
    "print(suma_filas)\n",
    "print(suma_columnas)\n",
    "print(total)\n",
    "\n",
    "tabla_filas = np.hstack((arr,suma_filas))\n",
    "tabla_filas\n"
   ]
  },
  {
   "cell_type": "code",
   "execution_count": 78,
   "metadata": {},
   "outputs": [
    {
     "data": {
      "text/plain": [
       "array([ 9,  9, 10,  7, 35])"
      ]
     },
     "execution_count": 78,
     "metadata": {},
     "output_type": "execute_result"
    }
   ],
   "source": [
    "ultima_fila = np.hstack([suma_columnas, total])\n",
    "ultima_fila"
   ]
  },
  {
   "cell_type": "code",
   "execution_count": 80,
   "metadata": {},
   "outputs": [
    {
     "data": {
      "text/plain": [
       "array([[ 3,  2,  1,  2,  8],\n",
       "       [ 6,  7,  9,  5, 27],\n",
       "       [ 9,  9, 10,  7, 35]])"
      ]
     },
     "execution_count": 80,
     "metadata": {},
     "output_type": "execute_result"
    }
   ],
   "source": [
    "tabla_margenes=np.vstack([tabla_filas, ultima_fila])\n",
    "tabla_margenes"
   ]
  },
  {
   "cell_type": "code",
   "execution_count": 81,
   "metadata": {},
   "outputs": [
    {
     "data": {
      "text/plain": [
       "array([[ 3,  2,  1,  2,  8],\n",
       "       [ 6,  7,  9,  5, 27],\n",
       "       [ 9,  9, 10,  7, 35]])"
      ]
     },
     "execution_count": 81,
     "metadata": {},
     "output_type": "execute_result"
    }
   ],
   "source": [
    "def gen_tabla_margenes (arr):\n",
    "    suma_columnas=(np.sum(arr, axis=0)) #suma columnas\n",
    "    suma_filas=(np.sum(arr, axis=1).reshape(-1,1)) #suma filas y da la vuelta\n",
    "    total=(np.sum(arr))\n",
    "    tabla_filas = np.hstack((arr,suma_filas))\n",
    "    ultima_fila = np.hstack([suma_columnas, total])\n",
    "    tabla_margenes=np.vstack([tabla_filas, ultima_fila])\n",
    "\n",
    "    return tabla_margenes\n",
    "\n",
    "\n",
    "gen_tabla_margenes (arr)"
   ]
  },
  {
   "cell_type": "code",
   "execution_count": 3,
   "metadata": {},
   "outputs": [],
   "source": [
    "# Ejercicio 8.\n",
    "# Crea una función que dados dos arrays X e Y, te calcule el coeficiente de correlación entre ellos usando la siguiente fórmula\n",
    "# https://wikimedia.org/api/rest_v1/media/math/render/svg/2b9c2079a3ffc1aacd36201ea0a3fb2460dc226f\n",
    "\n",
    "x = np.array([2,3,4,6,7,8,9,7])\n",
    "y = np.array([5,6,8,5,10,8,9,5])\n",
    "\n",
    "media_x=np.mean(x)\n",
    "media_y=np.mean(y)"
   ]
  },
  {
   "cell_type": "code",
   "execution_count": 5,
   "metadata": {},
   "outputs": [
    {
     "data": {
      "text/plain": [
       "18.0"
      ]
     },
     "execution_count": 5,
     "metadata": {},
     "output_type": "execute_result"
    }
   ],
   "source": [
    "numerador = np.sum((x-media_x)*(y-media_y))\n",
    "numerador"
   ]
  },
  {
   "cell_type": "code",
   "execution_count": 6,
   "metadata": {},
   "outputs": [
    {
     "data": {
      "text/plain": [
       "34.8998567332303"
      ]
     },
     "execution_count": 6,
     "metadata": {},
     "output_type": "execute_result"
    }
   ],
   "source": [
    "denominador = np.sqrt(np.sum((x-media_x)**2)) * np.sqrt(np.sum((y-media_y)**2)) \n",
    "denominador"
   ]
  },
  {
   "cell_type": "code",
   "execution_count": 7,
   "metadata": {},
   "outputs": [
    {
     "data": {
      "text/plain": [
       "0.5157614295551275"
      ]
     },
     "execution_count": 7,
     "metadata": {},
     "output_type": "execute_result"
    }
   ],
   "source": [
    "corr = numerador / denominador\n",
    "corr"
   ]
  },
  {
   "cell_type": "code",
   "execution_count": 9,
   "metadata": {},
   "outputs": [],
   "source": [
    "def coef_corr(x,y):\n",
    "\n",
    "    if (x.ndim != 1 or y.ndim!=1) and (len(x)!=len(y)):\n",
    "        return 'x e y deben ser de 1 dim y misma longitud'\n",
    "    media_x=np.mean(x)\n",
    "    media_y=np.mean(y)\n",
    "    numerador = np.sum((x-media_x)*(y-media_y))\n",
    "    denominador = np.sqrt(np.sum((x-media_x)**2)) * np.sqrt(np.sum((y-media_y)**2)) \n",
    "\n",
    "    if (denominador == 0):\n",
    "        return \"error, denominador 0\"\n",
    "    \n",
    "    corr = numerador / denominador\n",
    "    return corr\n"
   ]
  }
 ],
 "metadata": {
  "kernelspec": {
   "display_name": "Python 3.8 - AzureML",
   "language": "python",
   "name": "python38-azureml"
  },
  "language_info": {
   "codemirror_mode": {
    "name": "ipython",
    "version": 3
   },
   "file_extension": ".py",
   "mimetype": "text/x-python",
   "name": "python",
   "nbconvert_exporter": "python",
   "pygments_lexer": "ipython3",
   "version": "3.10.11"
  }
 },
 "nbformat": 4,
 "nbformat_minor": 2
}
